{
 "cells": [
  {
   "cell_type": "markdown",
   "metadata": {},
   "source": [
    "References:\n",
    "https://github.com/Akramz/Hands-on-Machine-Learning-with-Scikit-Learn-Keras-and-TensorFlow/blob/master/09.Unsupervised_learning.ipynb"
   ]
  },
  {
   "cell_type": "code",
   "execution_count": 18,
   "metadata": {},
   "outputs": [],
   "source": [
    "from sklearn.mixture import GaussianMixture"
   ]
  },
  {
   "cell_type": "code",
   "execution_count": 19,
   "metadata": {},
   "outputs": [],
   "source": [
    "from sklearn import datasets\n",
    "import matplotlib.pyplot as plt"
   ]
  },
  {
   "cell_type": "code",
   "execution_count": 13,
   "metadata": {},
   "outputs": [],
   "source": [
    "X, y = datasets.make_blobs(n_samples=1000, n_features=2, centers=5, cluster_std=[0.5, 0.5, 0.5, 1, 1])"
   ]
  },
  {
   "cell_type": "code",
   "execution_count": 20,
   "metadata": {},
   "outputs": [
    {
     "data": {
      "image/png": "[encoded data removed]",
      "text/plain": [
       "<Figure size 576x576 with 1 Axes>"
      ]
     },
     "metadata": {
      "needs_background": "light"
     },
     "output_type": "display_data"
    }
   ],
   "source": [
    "plt.figure(figsize=(8, 8))\n",
    "plt.scatter(X[:, 0], X[:, 1], s=2)\n",
    "plt.xlabel('x1')\n",
    "plt.ylabel('x2')\n",
    "plt.show()"
   ]
  },
  {
   "cell_type": "code",
   "execution_count": 21,
   "metadata": {},
   "outputs": [],
   "source": [
    "gm = GaussianMixture(n_components=5, n_init=10)"
   ]
  },
  {
   "cell_type": "code",
   "execution_count": 29,
   "metadata": {},
   "outputs": [
    {
     "data": {
      "text/plain": [
       "GaussianMixture(n_components=5, n_init=10)"
      ]
     },
     "execution_count": 29,
     "metadata": {},
     "output_type": "execute_result"
    }
   ],
   "source": [
    "gm.fit(X)"
   ]
  },
  {
   "cell_type": "code",
   "execution_count": 28,
   "metadata": {},
   "outputs": [
    {
     "data": {
      "text/plain": [
       "\u001b[0;31mType:\u001b[0m        GaussianMixture\n",
       "\u001b[0;31mString form:\u001b[0m GaussianMixture(n_components=5, n_init=10)\n",
       "\u001b[0;31mFile:\u001b[0m        ~/anaconda3/lib/python3.8/site-packages/sklearn/mixture/_gaussian_mixture.py\n",
       "\u001b[0;31mDocstring:\u001b[0m  \n",
       "Gaussian Mixture.\n",
       "\n",
       "Representation of a Gaussian mixture model probability distribution.\n",
       "This class allows to estimate the parameters of a Gaussian mixture\n",
       "distribution.\n",
       "\n",
       "Read more in the :ref:`User Guide <gmm>`.\n",
       "\n",
       ".. versionadded:: 0.18\n",
       "\n",
       "Parameters\n",
       "----------\n",
       "n_components : int, defaults to 1.\n",
       "    The number of mixture components.\n",
       "\n",
       "covariance_type : {'full' (default), 'tied', 'diag', 'spherical'}\n",
       "    String describing the type of covariance parameters to use.\n",
       "    Must be one of:\n",
       "\n",
       "    'full'\n",
       "        each component has its own general covariance matrix\n",
       "    'tied'\n",
       "        all components share the same general covariance matrix\n",
       "    'diag'\n",
       "        each component has its own diagonal covariance matrix\n",
       "    'spherical'\n",
       "        each component has its own single variance\n",
       "\n",
       "tol : float, defaults to 1e-3.\n",
       "    The convergence threshold. EM iterations will stop when the\n",
       "    lower bound average gain is below this threshold.\n",
       "\n",
       "reg_covar : float, defaults to 1e-6.\n",
       "    Non-negative regularization added to the diagonal of covariance.\n",
       "    Allows to assure that the covariance matrices are all positive.\n",
       "\n",
       "max_iter : int, defaults to 100.\n",
       "    The number of EM iterations to perform.\n",
       "\n",
       "n_init : int, defaults to 1.\n",
       "    The number of initializations to perform. The best results are kept.\n",
       "\n",
       "init_params : {'kmeans', 'random'}, defaults to 'kmeans'.\n",
       "    The method used to initialize the weights, the means and the\n",
       "    precisions.\n",
       "    Must be one of::\n",
       "\n",
       "        'kmeans' : responsibilities are initialized using kmeans.\n",
       "        'random' : responsibilities are initialized randomly.\n",
       "\n",
       "weights_init : array-like, shape (n_components, ), optional\n",
       "    The user-provided initial weights, defaults to None.\n",
       "    If it None, weights are initialized using the `init_params` method.\n",
       "\n",
       "means_init : array-like, shape (n_components, n_features), optional\n",
       "    The user-provided initial means, defaults to None,\n",
       "    If it None, means are initialized using the `init_params` method.\n",
       "\n",
       "precisions_init : array-like, optional.\n",
       "    The user-provided initial precisions (inverse of the covariance\n",
       "    matrices), defaults to None.\n",
       "    If it None, precisions are initialized using the 'init_params' method.\n",
       "    The shape depends on 'covariance_type'::\n",
       "\n",
       "        (n_components,)                        if 'spherical',\n",
       "        (n_features, n_features)               if 'tied',\n",
       "        (n_components, n_features)             if 'diag',\n",
       "        (n_components, n_features, n_features) if 'full'\n",
       "\n",
       "random_state : int, RandomState instance or None, optional (default=None)\n",
       "    Controls the random seed given to the method chosen to initialize the\n",
       "    parameters (see `init_params`).\n",
       "    In addition, it controls the generation of random samples from the\n",
       "    fitted distribution (see the method `sample`).\n",
       "    Pass an int for reproducible output across multiple function calls.\n",
       "    See :term:`Glossary <random_state>`.\n",
       "\n",
       "warm_start : bool, default to False.\n",
       "    If 'warm_start' is True, the solution of the last fitting is used as\n",
       "    initialization for the next call of fit(). This can speed up\n",
       "    convergence when fit is called several times on similar problems.\n",
       "    In that case, 'n_init' is ignored and only a single initialization\n",
       "    occurs upon the first call.\n",
       "    See :term:`the Glossary <warm_start>`.\n",
       "\n",
       "verbose : int, default to 0.\n",
       "    Enable verbose output. If 1 then it prints the current\n",
       "    initialization and each iteration step. If greater than 1 then\n",
       "    it prints also the log probability and the time needed\n",
       "    for each step.\n",
       "\n",
       "verbose_interval : int, default to 10.\n",
       "    Number of iteration done before the next print.\n",
       "\n",
       "Attributes\n",
       "----------\n",
       "weights_ : array-like, shape (n_components,)\n",
       "    The weights of each mixture components.\n",
       "\n",
       "means_ : array-like, shape (n_components, n_features)\n",
       "    The mean of each mixture component.\n",
       "\n",
       "covariances_ : array-like\n",
       "    The covariance of each mixture component.\n",
       "    The shape depends on `covariance_type`::\n",
       "\n",
       "        (n_components,)                        if 'spherical',\n",
       "        (n_features, n_features)               if 'tied',\n",
       "        (n_components, n_features)             if 'diag',\n",
       "        (n_components, n_features, n_features) if 'full'\n",
       "\n",
       "precisions_ : array-like\n",
       "    The precision matrices for each component in the mixture. A precision\n",
       "    matrix is the inverse of a covariance matrix. A covariance matrix is\n",
       "    symmetric positive definite so the mixture of Gaussian can be\n",
       "    equivalently parameterized by the precision matrices. Storing the\n",
       "    precision matrices instead of the covariance matrices makes it more\n",
       "    efficient to compute the log-likelihood of new samples at test time.\n",
       "    The shape depends on `covariance_type`::\n",
       "\n",
       "        (n_components,)                        if 'spherical',\n",
       "        (n_features, n_features)               if 'tied',\n",
       "        (n_components, n_features)             if 'diag',\n",
       "        (n_components, n_features, n_features) if 'full'\n",
       "\n",
       "precisions_cholesky_ : array-like\n",
       "    The cholesky decomposition of the precision matrices of each mixture\n",
       "    component. A precision matrix is the inverse of a covariance matrix.\n",
       "    A covariance matrix is symmetric positive definite so the mixture of\n",
       "    Gaussian can be equivalently parameterized by the precision matrices.\n",
       "    Storing the precision matrices instead of the covariance matrices makes\n",
       "    it more efficient to compute the log-likelihood of new samples at test\n",
       "    time. The shape depends on `covariance_type`::\n",
       "\n",
       "        (n_components,)                        if 'spherical',\n",
       "        (n_features, n_features)               if 'tied',\n",
       "        (n_components, n_features)             if 'diag',\n",
       "        (n_components, n_features, n_features) if 'full'\n",
       "\n",
       "converged_ : bool\n",
       "    True when convergence was reached in fit(), False otherwise.\n",
       "\n",
       "n_iter_ : int\n",
       "    Number of step used by the best fit of EM to reach the convergence.\n",
       "\n",
       "lower_bound_ : float\n",
       "    Lower bound value on the log-likelihood (of the training data with\n",
       "    respect to the model) of the best fit of EM.\n",
       "\n",
       "See Also\n",
       "--------\n",
       "BayesianGaussianMixture : Gaussian mixture model fit with a variational\n",
       "    inference.\n"
      ]
     },
     "metadata": {},
     "output_type": "display_data"
    }
   ],
   "source": []
  },
  {
   "cell_type": "code",
   "execution_count": null,
   "metadata": {},
   "outputs": [],
   "source": []
  }
 ],
 "metadata": {
  "kernelspec": {
   "display_name": "Python 3",
   "language": "python",
   "name": "python3"
  },
  "language_info": {
   "codemirror_mode": {
    "name": "ipython",
    "version": 3
   },
   "file_extension": ".py",
   "mimetype": "text/x-python",
   "name": "python",
   "nbconvert_exporter": "python",
   "pygments_lexer": "ipython3",
   "version": "3.8.3"
  }
 },
 "nbformat": 4,
 "nbformat_minor": 4
}
